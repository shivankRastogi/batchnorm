{
 "cells": [
  {
   "cell_type": "code",
   "execution_count": 1,
   "id": "577c5e46-32b4-42a9-ad8b-a04747bde633",
   "metadata": {},
   "outputs": [],
   "source": [
    "import torch\n",
    "import torch.nn.functional as F\n",
    "import matplotlib.pyplot as plt # for making figures\n",
    "%matplotlib inline"
   ]
  },
  {
   "cell_type": "code",
   "execution_count": 2,
   "id": "2da8277f-660e-4ddb-9063-4d917d311995",
   "metadata": {},
   "outputs": [
    {
     "data": {
      "text/plain": [
       "['emma', 'olivia', 'ava', 'isabella', 'sophia', 'charlotte', 'mia', 'amelia']"
      ]
     },
     "execution_count": 2,
     "metadata": {},
     "output_type": "execute_result"
    }
   ],
   "source": [
    "# read in all the words\n",
    "words = open('names.txt', 'r').read().splitlines()\n",
    "words[:8]"
   ]
  },
  {
   "cell_type": "code",
   "execution_count": 3,
   "id": "b7bc419b-41d3-4807-a244-70d484cf9c7a",
   "metadata": {},
   "outputs": [
    {
     "data": {
      "text/plain": [
       "32033"
      ]
     },
     "execution_count": 3,
     "metadata": {},
     "output_type": "execute_result"
    }
   ],
   "source": [
    "len(words)"
   ]
  },
  {
   "cell_type": "code",
   "execution_count": 4,
   "id": "d9d0141e-92aa-472e-b5a8-6426522483a5",
   "metadata": {},
   "outputs": [],
   "source": [
    "chars = sorted(list(set(''.join(words))))\n",
    "charIntIndexMapping = {s:i+1 for i,s in enumerate(chars)}\n",
    "charIntIndexMapping['.'] = 0\n",
    "indexToCharMapping ={i:s for s,i in charIntIndexMapping.items()}"
   ]
  },
  {
   "cell_type": "code",
   "execution_count": 5,
   "id": "9aef2b85-ab06-4e44-a4cc-63bd54d81ab0",
   "metadata": {},
   "outputs": [
    {
     "name": "stdout",
     "output_type": "stream",
     "text": [
      "torch.Size([182625, 3]) torch.Size([182625])\n",
      "torch.Size([22655, 3]) torch.Size([22655])\n",
      "torch.Size([22866, 3]) torch.Size([22866])\n"
     ]
    }
   ],
   "source": [
    "#1. Build the dataset: Train, Validation and Test\n",
    "block_size = 3 \n",
    "\n",
    "def build_dataset(words):  \n",
    "\n",
    "    block_size = 3 \n",
    "    inputContext, outputCharcterForThatContext = [], []\n",
    "    \n",
    "    for w in words:\n",
    "      \n",
    "    \n",
    "      contextSlidingWindow = [0] * block_size\n",
    "        \n",
    "      for ch in w + '.': \n",
    "        index = charIntIndexMapping[ch]\n",
    "        inputContext.append(contextSlidingWindow)\n",
    "        outputCharcterForThatContext.append(index)\n",
    "    #print(''.join(indexToCharMapping[i] for i in context), '--->', indexToCharMapping[ix])\n",
    "        contextSlidingWindow = contextSlidingWindow[1:] + [index]\n",
    "\n",
    "    inputContext = torch.tensor(inputContext)\n",
    "    outputCharcterForThatContext = torch.tensor(outputCharcterForThatContext)\n",
    "    print(inputContext.shape,outputCharcterForThatContext.shape)\n",
    "    return inputContext,outputCharcterForThatContext\n",
    "\n",
    "import random\n",
    "random.seed(42)\n",
    "random.shuffle(words)\n",
    "noOfWordForTraining = int(0.8*len(words))\n",
    "noOfWordsForValidation = int(0.9*len(words))\n",
    "\n",
    "inputContextTrain, outputCharacterTrain = build_dataset(words[:noOfWordForTraining])\n",
    "inputContextValidation, outputCharacterValidation = build_dataset(words[noOfWordForTraining:noOfWordsForValidation])\n",
    "inputContextTesting, outputCharacterTesting = build_dataset(words[noOfWordsForValidation:])"
   ]
  },
  {
   "cell_type": "code",
   "execution_count": 6,
   "id": "b8bd249a-bc56-4a23-a0f3-b9a3897d4abe",
   "metadata": {},
   "outputs": [
    {
     "name": "stdout",
     "output_type": "stream",
     "text": [
      "10281\n"
     ]
    }
   ],
   "source": [
    "#2. MLP revisited: Creating Parameters for MLP(Charembedding, Weights and biases)\n",
    "\n",
    "n_embd = 2 # the dimensionality of the character embedding vectors\n",
    "n_hidden = 300 # the number of neurons in the hidden layer of the MLP(1st layer)\n",
    "vocab_size=27 #unique characters we have including '.'\n",
    "\n",
    "g = torch.Generator().manual_seed(2147483647) # for reproducibility\n",
    "charEmbeddings  = torch.randn((vocab_size, n_embd),generator=g,requires_grad=True)\n",
    "weightLayer1 = torch.randn((n_embd * block_size, n_hidden), generator=g,requires_grad=True)\n",
    "biasLayer1 = torch.randn(n_hidden,generator=g,requires_grad=True)\n",
    "weightLayer2 = torch.randn((n_hidden, vocab_size),generator=g,requires_grad=True)\n",
    "biasLayer2 = torch.randn(vocab_size,generator=g,requires_grad=True)\n",
    "\n",
    "parameters = [charEmbeddings, weightLayer1, weightLayer2, biasLayer1, biasLayer2]\n",
    "print(sum(p.nelement() for p in parameters)) # number of parameters in total"
   ]
  },
  {
   "cell_type": "code",
   "execution_count": 7,
   "id": "367082a0-84d3-49a3-9d67-cada6788d43d",
   "metadata": {},
   "outputs": [
    {
     "name": "stdout",
     "output_type": "stream",
     "text": [
      "      0/ 200000: 20.6484\n",
      "  10000/ 200000: 2.4881\n",
      "  20000/ 200000: 3.0926\n",
      "  30000/ 200000: 2.8106\n",
      "  40000/ 200000: 3.0985\n",
      "  50000/ 200000: 2.0041\n",
      "  60000/ 200000: 2.5635\n",
      "  70000/ 200000: 2.3901\n",
      "  80000/ 200000: 2.9660\n",
      "  90000/ 200000: 2.5537\n",
      " 100000/ 200000: 2.4078\n",
      " 110000/ 200000: 2.3228\n",
      " 120000/ 200000: 2.4344\n",
      " 130000/ 200000: 2.1707\n",
      " 140000/ 200000: 2.5956\n",
      " 150000/ 200000: 1.8785\n",
      " 160000/ 200000: 2.4912\n",
      " 170000/ 200000: 2.0221\n",
      " 180000/ 200000: 2.6983\n",
      " 190000/ 200000: 1.9734\n",
      "loss on training data set 2.288902997970581\n"
     ]
    }
   ],
   "source": [
    "#3. Training the model\n",
    "max_steps=200000\n",
    "batch_size=32\n",
    "lossi = []\n",
    "stepsi = []\n",
    "noOfColAfterFlattening = block_size*n_embd\n",
    "for i in range(max_steps):\n",
    "    noOfWindowsToBeUsedPerLearningStep = batch_size\n",
    "    randomSlidingWindowsUsed = torch.randint(0, inputContextTrain.shape[0], (noOfWindowsToBeUsedPerLearningStep,))\n",
    "    inputForLayer1 = charEmbeddings[inputContextTrain[randomSlidingWindowsUsed]]\n",
    "    inputForLayer1 = inputForLayer1.view(noOfWindowsToBeUsedPerLearningStep, noOfColAfterFlattening)\n",
    "    h = torch.tanh(inputForLayer1@weightLayer1+biasLayer1)\n",
    "    logits = h@weightLayer2+biasLayer2\n",
    "    loss = F.cross_entropy(logits,outputCharacterTrain[randomSlidingWindowsUsed])\n",
    "    for p in parameters:\n",
    "        p.grad = None \n",
    "    loss.backward()\n",
    "    for p in parameters:\n",
    "        p.data += -0.1*p.grad \n",
    "    #track stats    \n",
    "    if i % 10000 == 0: # print every once in a while\n",
    "        print(f'{i:7d}/{max_steps:7d}: {loss.item():.4f}') #logging the loss in every 10,000 learning steps \n",
    "    lossi.append(loss.item())\n",
    "    stepsi.append(i)\n",
    "\n",
    "   \n",
    "\n",
    "print(\"loss on training data set\",loss.item())"
   ]
  },
  {
   "cell_type": "code",
   "execution_count": 8,
   "id": "c75c27b6-6eb1-477e-b87a-1cefd1f3b049",
   "metadata": {},
   "outputs": [
    {
     "data": {
      "text/plain": [
       "[<matplotlib.lines.Line2D at 0x127d70830>]"
      ]
     },
     "execution_count": 8,
     "metadata": {},
     "output_type": "execute_result"
    },
    {
     "data": {
      "image/png": "[encoded data removed]",
      "text/plain": [
       "<Figure size 640x480 with 1 Axes>"
      ]
     },
     "metadata": {},
     "output_type": "display_data"
    }
   ],
   "source": [
    "plt.plot(stepsi,lossi)"
   ]
  },
  {
   "cell_type": "code",
   "execution_count": 9,
   "id": "4c07e820-395f-40c3-8352-c26573e515bb",
   "metadata": {},
   "outputs": [],
   "source": [
    "def trainingModel(inputContextTrain,charEmbeddings,weightLayer1,biasLayer1,weightLayer2,biasLayer2):\n",
    "    max_steps=200000\n",
    "    batch_size=32\n",
    "    lossi = []\n",
    "    stepsi = []\n",
    "    parameters = [charEmbeddings, weightLayer1, weightLayer2, biasLayer1, biasLayer2]\n",
    "    noOfColAfterFlattening = block_size*n_embd\n",
    "    for i in range(max_steps):\n",
    "        noOfWindowsToBeUsedPerLearningStep = batch_size\n",
    "        randomSlidingWindowsUsed = torch.randint(0, inputContextTrain.shape[0], (noOfWindowsToBeUsedPerLearningStep,))\n",
    "        inputForLayer1 = charEmbeddings[inputContextTrain[randomSlidingWindowsUsed]]\n",
    "        inputForLayer1 = inputForLayer1.view(noOfWindowsToBeUsedPerLearningStep, noOfColAfterFlattening)\n",
    "        h = torch.tanh(inputForLayer1@weightLayer1+biasLayer1)\n",
    "        logits = h@weightLayer2+biasLayer2\n",
    "        loss = F.cross_entropy(logits,outputCharacterTrain[randomSlidingWindowsUsed])\n",
    "        for p in parameters:\n",
    "            p.grad = None \n",
    "        loss.backward()\n",
    "        lr = 0.1 if i<100000 else 0.01\n",
    "        for p in parameters:\n",
    "            p.data += -lr * p.grad \n",
    "        #track stats    \n",
    "        if i % 10000 == 0: # print every once in a while\n",
    "            print(f'{i:7d}/{max_steps:7d}: {loss.item():.4f}') #logging the loss in every 10,000 learning steps \n",
    "        lossi.append(loss.item())\n",
    "        stepsi.append(i)\n",
    "    \n",
    "       \n",
    "    plt.plot(stepsi,lossi)\n",
    "    print(\"loss on training data set\",loss.item())"
   ]
  },
  {
   "cell_type": "code",
   "execution_count": 10,
   "id": "9e03020a-4c9b-4db9-8b34-9129a2a0cfbe",
   "metadata": {},
   "outputs": [
    {
     "name": "stdout",
     "output_type": "stream",
     "text": [
      "      0/ 200000: 3.2573\n",
      "  10000/ 200000: 1.9375\n",
      "  20000/ 200000: 2.2970\n",
      "  30000/ 200000: 2.7506\n",
      "  40000/ 200000: 2.3514\n",
      "  50000/ 200000: 2.1472\n",
      "  60000/ 200000: 2.4106\n",
      "  70000/ 200000: 2.1510\n",
      "  80000/ 200000: 2.4235\n",
      "  90000/ 200000: 2.0513\n",
      " 100000/ 200000: 2.1214\n",
      " 110000/ 200000: 2.1279\n",
      " 120000/ 200000: 2.8332\n",
      " 130000/ 200000: 1.9229\n",
      " 140000/ 200000: 2.0449\n",
      " 150000/ 200000: 1.9333\n",
      " 160000/ 200000: 2.1514\n",
      " 170000/ 200000: 2.2676\n",
      " 180000/ 200000: 2.1108\n",
      " 190000/ 200000: 2.0550\n",
      "loss on training data set 1.9120447635650635\n"
     ]
    },
    {
     "data": {
      "image/png": "[encoded data removed]",
      "text/plain": [
       "<Figure size 640x480 with 1 Axes>"
      ]
     },
     "metadata": {},
     "output_type": "display_data"
    }
   ],
   "source": [
    "#4 PROBLEM-1 WITH OUR MODEL(FIXING THE INITIAL LOSS)\n",
    "\n",
    "#1.LOSS BEFORE FIRST LEARNING STEP IS TOO HIGH\n",
    "    #a. For the first learning step the loss is too high i.e 27.49, as seen from graph in next leanring steps it goes down drastically which\n",
    "    #suggests that something is wrong with our parameters with which we start with\n",
    "\n",
    "    #b. so we have 27 character possible for any place and in starting when our model is not trained every character should \n",
    "    #be equally likely so prob for any character to come at a place is 1/27 and we do negative log likelihood which is 3.29\n",
    "    # and since loss is basically mean so our loss to start with is 3.29 and not 27.49 this suggests something is wrong\n",
    "    #with our model to params with which we start with\n",
    "\n",
    "#2. SOLUTION:(LOGITS is before counts step i.e the step where we do exponentiation for representing count)\n",
    "    #a. We want for the first learning step logits to have value closer to each other the more wide i.e different the logit value are\n",
    "    #the less equilikely will be prob of occurences and hence the more will be loss (i.e more bigger than 3.29 loss which is for equilikely)\n",
    "    #b. We want logits[i][j] to have equal like values, so we want logits[i][j] to have value closer to 0\n",
    "    #c. We make b2(bias for layer-2) to be 0 start with Weights for layer to be multiplied by 0.1\n",
    "    #d. We dont want to multiply weights with 0, multiplying bias with 0 is fine\n",
    "\n",
    "\n",
    "g = torch.Generator().manual_seed(2147483647) # for reproducibility\n",
    "charEmbeddings  = torch.randn((vocab_size, n_embd),generator=g,requires_grad=True)\n",
    "weightLayer1 = torch.randn((n_embd * block_size, n_hidden), generator=g,requires_grad=True)\n",
    "biasLayer1 = torch.randn(n_hidden,generator=g,requires_grad=True)\n",
    "weightLayer2 = torch.randn((n_hidden, vocab_size),generator=g)*0.01\n",
    "biasLayer2 = torch.randn(vocab_size,generator=g)*0\n",
    "\n",
    "weightLayer2.requires_grad=True\n",
    "biasLayer2.requires_grad=True\n",
    "\n",
    "#weightLayer2 = torch.randn((n_hidden, vocab_size),generator=g, required_grad=True)*0.1 was causing error when we were multiplyinh\n",
    "#learning rate with gradient, Error was cant multiply none with fload hence separated out requires_grad=true in separate line\n",
    "\n",
    "parameters = [charEmbeddings, weightLayer1, weightLayer2, biasLayer1, biasLayer2]\n",
    "trainingModel(inputContextTrain,charEmbeddings,weightLayer1,biasLayer1,weightLayer2,biasLayer2)\n",
    "\n",
    "\n",
    "#3. Observations from Solution:\n",
    "    #1. Loss for first step drastically reduces from very big value like 27 to 3.25 which we want, because equilikely prob=3.29\n",
    "    #2. The plot of loss is no more hockey shape, earlier we had hockey stick like shape where we start with very high loss and\n",
    "    # immediately go to lower loss, now we have fixed that issue so we have removed easy gains from our model \n",
    "    #3. Since we start with better model, we dont have to waste initial learning steps to get that easy gain which results in lesser loss\n",
    "    # in model of 1.91 incomparison to previous training where we have not multiplied with 0.01 and 0"
   ]
  },
  {
   "cell_type": "code",
   "execution_count": 23,
   "id": "99ccfd68-08e9-4a02-a21b-37abcef224dd",
   "metadata": {},
   "outputs": [
    {
     "data": {
      "text/plain": [
       "[<matplotlib.lines.Line2D at 0x146778500>]"
      ]
     },
     "execution_count": 23,
     "metadata": {},
     "output_type": "execute_result"
    },
    {
     "data": {
      "image/png": "[encoded data removed]",
      "text/plain": [
       "<Figure size 400x300 with 1 Axes>"
      ]
     },
     "metadata": {},
     "output_type": "display_data"
    }
   ],
   "source": [
    "import numpy as np\n",
    "x = np.linspace(-10, 10, 400)\n",
    "y = np.tanh(x)\n",
    "plt.figure(figsize=(4, 3))\n",
    "plt.plot(x, y, label='tanh(x)', color='blue')"
   ]
  },
  {
   "cell_type": "code",
   "execution_count": null,
   "id": "b2fe7b67-ced9-46ff-baa5-5f264dc833e5",
   "metadata": {},
   "outputs": [],
   "source": [
    "#PROBLEM-2 WITH OUR MODEL(FIXING SATURATED tanh)\n",
    "#1. We do  h = torch.tanh(inputForLayer1@weightLayer1+biasLayer1), we squash the result of layer-1 to a range of -1 to 1 \n",
    "# from the plot of tanh we see for value big enough like more than 3 or less than -3 tanh() gives value equal to +1 and -1 \n",
    "#respectively\n",
    "\n",
    "#2. Gradient for these portions in tanh graph is zero because graph is flat for x>+3 and x<-3\n",
    "\n",
    "#3.When we do gradient decent in backward pass the impact of those cells of matrix resulting from \n",
    "#h = torch.tanh(inputForLayer1@weightLayer1+biasLayer1) whose value is big enough will not be optimised because their \n",
    "#gradient is zero, Suppose if entire column of matrix h is 1 or -1 then that neuron's weight can never be optimised"
   ]
  }
 ],
 "metadata": {
  "kernelspec": {
   "display_name": "Python 3 (ipykernel)",
   "language": "python",
   "name": "python3"
  },
  "language_info": {
   "codemirror_mode": {
    "name": "ipython",
    "version": 3
   },
   "file_extension": ".py",
   "mimetype": "text/x-python",
   "name": "python",
   "nbconvert_exporter": "python",
   "pygments_lexer": "ipython3",
   "version": "3.12.4"
  }
 },
 "nbformat": 4,
 "nbformat_minor": 5
}
